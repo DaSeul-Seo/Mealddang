{
 "cells": [
  {
   "cell_type": "code",
   "execution_count": 1,
   "metadata": {},
   "outputs": [],
   "source": [
    "import re\n",
    "import pandas as pd\n",
    "import numpy as np\n",
    "import matplotlib.pyplot as plt\n",
    "\n",
    "import urllib.request\n",
    "import boto3\n",
    "from collections import Counter\n",
    "from konlpy.tag import Kkma"
   ]
  },
  {
   "cell_type": "code",
   "execution_count": 2,
   "metadata": {},
   "outputs": [],
   "source": [
    "def replace_empty_with_nan(text):\n",
    "    if text.strip() == '':\n",
    "        return np.nan\n",
    "    else:\n",
    "        return text"
   ]
  },
  {
   "cell_type": "markdown",
   "metadata": {},
   "source": [
    "### 이모지랑 한글만 가져오도록 하기"
   ]
  },
  {
   "cell_type": "code",
   "execution_count": 3,
   "metadata": {},
   "outputs": [],
   "source": [
    "total = pd.read_csv('./data/naver_result_0305.csv', encoding_errors='ignore', low_memory=False)\n",
    "total_data = total.copy()\n",
    "\n",
    "for i, body in total_data['body'].items():\n",
    "    if isinstance(body, str):\n",
    "        total_data.at[i, 'body'] = re.sub(r'[\\U00010000-\\U0010ffff]', '', body)\n",
    "    else:\n",
    "        total_data.at[i, 'body'] = np.nan\n",
    "total_data = total_data.dropna(subset=['body'])\n",
    "total_data.drop_duplicates(subset=['body'], inplace=True)\n",
    "total_data['body'] = total_data['body'].apply(lambda x: re.sub(r'[^ㄱ-ㅎㅏ-ㅣ가-힣\\s]', '', str(x)))\n",
    "total_data['body'] = total_data['body'].fillna('')\n",
    "total_data['body'] = total_data['body'].replace('', np.nan)\n",
    "total_data['body'] = total_data['body'].str.replace('\\n', '')\n",
    "\n",
    "# 문자열에 strip() 메소드 적용\n",
    "total_data['body'] = total_data['body'].str.strip()\n",
    "total_data['body'].replace('', np.nan, inplace=True) \n",
    "total_data = total_data.dropna(subset=['body'])\n",
    "total_data['body'] = total_data['body'].astype(str)"
   ]
  },
  {
   "cell_type": "code",
   "execution_count": 4,
   "metadata": {},
   "outputs": [],
   "source": [
    "# 형태소 분석기 및 불용어 정의\n",
    "kkma = Kkma()\n",
    "stopwords = ['도', '는', '다', '의', '가', '이', '은', '한', '에', '하', '고', '을', '를', '인', '듯', '과', '와', '네', '들', '듯', '지', '임', '게']"
   ]
  },
  {
   "cell_type": "code",
   "execution_count": 5,
   "metadata": {},
   "outputs": [],
   "source": [
    "# 새로운 열을 초기화하고 각각의 품사에 따라 토큰을 저장\n",
    "total_data['nouns'] = None\n",
    "total_data['verbs'] = None\n",
    "total_data['adjectives'] = None\n",
    "total_data['exclamations'] = None"
   ]
  },
  {
   "cell_type": "code",
   "execution_count": 6,
   "metadata": {},
   "outputs": [],
   "source": [
    "from tqdm import tqdm"
   ]
  },
  {
   "cell_type": "code",
   "execution_count": 7,
   "metadata": {},
   "outputs": [],
   "source": [
    "# 형태소 분석 함수 정의\n",
    "def tokenize_text(text):\n",
    "    nouns = [word for word, pos in kkma.pos(text) if pos.startswith('N')]\n",
    "    verbs = [word for word, pos in kkma.pos(text) if pos.startswith('V')]\n",
    "    adjectives = [word for word, pos in kkma.pos(text) if pos.startswith('VA')]\n",
    "    exclamations = [word for word, pos in kkma.pos(text) if pos.startswith('E')]\n",
    "    return nouns, verbs, adjectives, exclamations"
   ]
  },
  {
   "cell_type": "code",
   "execution_count": 9,
   "metadata": {},
   "outputs": [],
   "source": [
    "total_data['rating'].replace('nan', np.nan, inplace=True)\n",
    "total_data.dropna(subset=['rating'], inplace=True)"
   ]
  },
  {
   "cell_type": "code",
   "execution_count": 11,
   "metadata": {},
   "outputs": [],
   "source": [
    "total_data['label'] = None"
   ]
  },
  {
   "cell_type": "code",
   "execution_count": 12,
   "metadata": {},
   "outputs": [],
   "source": [
    "# rating 열을 숫자로 변환합니다.\n",
    "total_data['rating'] = pd.to_numeric(total_data['rating'], errors='coerce')\n",
    "\n",
    "# 숫자로 변환된 rating 열에서 4 이상인 행을 찾아서 label을 1로 설정합니다.\n",
    "total_data.loc[total_data['rating'] >= 4, 'label'] = 1\n",
    "\n",
    "# 숫자로 변환된 rating 열에서 2 이하인 행을 찾아서 label을 0으로 설정합니다.\n",
    "total_data.loc[total_data['rating'] <= 2, 'label'] = 0\n",
    "\n",
    "# label이 할당되지 않은 행을 제거합니다.\n",
    "total_data = total_data.dropna(subset=['label'])"
   ]
  },
  {
   "cell_type": "code",
   "execution_count": 13,
   "metadata": {},
   "outputs": [],
   "source": [
    "total_data = total_data[['label','body']].copy()"
   ]
  },
  {
   "cell_type": "code",
   "execution_count": 14,
   "metadata": {},
   "outputs": [],
   "source": [
    "# DataFrame의 기본 인덱스를 사용하여 인덱스를 다시 설정합니다.\n",
    "total_data.reset_index(drop=True, inplace=True)"
   ]
  },
  {
   "cell_type": "code",
   "execution_count": 15,
   "metadata": {},
   "outputs": [],
   "source": [
    "# 열 이름 변경\n",
    "total_data = total_data.rename(columns={'label': 'Rating', 'body': 'Review'})"
   ]
  },
  {
   "cell_type": "code",
   "execution_count": 16,
   "metadata": {},
   "outputs": [
    {
     "data": {
      "text/html": [
       "<div>\n",
       "<style scoped>\n",
       "    .dataframe tbody tr th:only-of-type {\n",
       "        vertical-align: middle;\n",
       "    }\n",
       "\n",
       "    .dataframe tbody tr th {\n",
       "        vertical-align: top;\n",
       "    }\n",
       "\n",
       "    .dataframe thead th {\n",
       "        text-align: right;\n",
       "    }\n",
       "</style>\n",
       "<table border=\"1\" class=\"dataframe\">\n",
       "  <thead>\n",
       "    <tr style=\"text-align: right;\">\n",
       "      <th></th>\n",
       "      <th>Rating</th>\n",
       "      <th>Review</th>\n",
       "    </tr>\n",
       "  </thead>\n",
       "  <tbody>\n",
       "    <tr>\n",
       "      <th>0</th>\n",
       "      <td>0</td>\n",
       "      <td>손님 놓치기 싫어서 지하층으로 손님을 받을거면 동일한 서비스를 제공하세요  그동안 ...</td>\n",
       "    </tr>\n",
       "    <tr>\n",
       "      <th>1</th>\n",
       "      <td>1</td>\n",
       "      <td>김치찌개랑 계란말이 쨩</td>\n",
       "    </tr>\n",
       "    <tr>\n",
       "      <th>2</th>\n",
       "      <td>1</td>\n",
       "      <td>맛있어요</td>\n",
       "    </tr>\n",
       "    <tr>\n",
       "      <th>3</th>\n",
       "      <td>1</td>\n",
       "      <td>바빠요</td>\n",
       "    </tr>\n",
       "    <tr>\n",
       "      <th>4</th>\n",
       "      <td>1</td>\n",
       "      <td>삼굡살이 너무맛나게먹엇쳐욤</td>\n",
       "    </tr>\n",
       "    <tr>\n",
       "      <th>...</th>\n",
       "      <td>...</td>\n",
       "      <td>...</td>\n",
       "    </tr>\n",
       "    <tr>\n",
       "      <th>10481</th>\n",
       "      <td>1</td>\n",
       "      <td>주차 시간 무료</td>\n",
       "    </tr>\n",
       "    <tr>\n",
       "      <th>10482</th>\n",
       "      <td>1</td>\n",
       "      <td>케익이 맛있는 아티제</td>\n",
       "    </tr>\n",
       "    <tr>\n",
       "      <th>10483</th>\n",
       "      <td>1</td>\n",
       "      <td>주차가돼요</td>\n",
       "    </tr>\n",
       "    <tr>\n",
       "      <th>10484</th>\n",
       "      <td>1</td>\n",
       "      <td>깔끔하고 저녁엔 회사 사람들이 빠져나가서 조용하고 좋네요</td>\n",
       "    </tr>\n",
       "    <tr>\n",
       "      <th>10485</th>\n",
       "      <td>1</td>\n",
       "      <td>삼성타워 크고 좋음 ㅎ</td>\n",
       "    </tr>\n",
       "  </tbody>\n",
       "</table>\n",
       "<p>10486 rows × 2 columns</p>\n",
       "</div>"
      ],
      "text/plain": [
       "      Rating                                             Review\n",
       "0          0  손님 놓치기 싫어서 지하층으로 손님을 받을거면 동일한 서비스를 제공하세요  그동안 ...\n",
       "1          1                                       김치찌개랑 계란말이 쨩\n",
       "2          1                                               맛있어요\n",
       "3          1                                                바빠요\n",
       "4          1                                     삼굡살이 너무맛나게먹엇쳐욤\n",
       "...      ...                                                ...\n",
       "10481      1                                           주차 시간 무료\n",
       "10482      1                                        케익이 맛있는 아티제\n",
       "10483      1                                              주차가돼요\n",
       "10484      1                    깔끔하고 저녁엔 회사 사람들이 빠져나가서 조용하고 좋네요\n",
       "10485      1                                       삼성타워 크고 좋음 ㅎ\n",
       "\n",
       "[10486 rows x 2 columns]"
      ]
     },
     "execution_count": 16,
     "metadata": {},
     "output_type": "execute_result"
    }
   ],
   "source": [
    "total_data"
   ]
  },
  {
   "cell_type": "code",
   "execution_count": 17,
   "metadata": {},
   "outputs": [
    {
     "data": {
      "text/plain": [
       "Rating\n",
       "1    9968\n",
       "0     518\n",
       "Name: count, dtype: int64"
      ]
     },
     "execution_count": 17,
     "metadata": {},
     "output_type": "execute_result"
    }
   ],
   "source": [
    "total_data.Rating.value_counts()"
   ]
  },
  {
   "cell_type": "code",
   "execution_count": 18,
   "metadata": {},
   "outputs": [
    {
     "data": {
      "text/plain": [
       "count    10486.000000\n",
       "mean        40.985600\n",
       "std         50.059683\n",
       "min          1.000000\n",
       "25%         12.000000\n",
       "50%         24.000000\n",
       "75%         50.000000\n",
       "max        397.000000\n",
       "Name: Review, dtype: float64"
      ]
     },
     "execution_count": 18,
     "metadata": {},
     "output_type": "execute_result"
    }
   ],
   "source": [
    "total_data.Review.str.len().describe()"
   ]
  },
  {
   "cell_type": "code",
   "execution_count": 21,
   "metadata": {},
   "outputs": [
    {
     "name": "stderr",
     "output_type": "stream",
     "text": [
      "100%|██████████| 10486/10486 [22:22<00:00,  7.81it/s]"
     ]
    },
    {
     "name": "stdout",
     "output_type": "stream",
     "text": [
      "      Rating                                             Review  \\\n",
      "0          0  손님 놓치기 싫어서 지하층으로 손님을 받을거면 동일한 서비스를 제공하세요  그동안 ...   \n",
      "1          1                                       김치찌개랑 계란말이 쨩   \n",
      "2          1                                               맛있어요   \n",
      "3          1                                                바빠요   \n",
      "4          1                                     삼굡살이 너무맛나게먹엇쳐욤   \n",
      "...      ...                                                ...   \n",
      "10481      1                                           주차 시간 무료   \n",
      "10482      1                                        케익이 맛있는 아티제   \n",
      "10483      1                                              주차가돼요   \n",
      "10484      1                    깔끔하고 저녁엔 회사 사람들이 빠져나가서 조용하고 좋네요   \n",
      "10485      1                                       삼성타워 크고 좋음 ㅎ   \n",
      "\n",
      "                                                   nouns  \\\n",
      "0      [손님, 지하층, 손님, 거, 동일, 서비스, 제공, 앞, 번, 사장님, 남자, 분...   \n",
      "1                                          [김치찌개, 계란, 말]   \n",
      "2                                                     []   \n",
      "3                                                     []   \n",
      "4                                                     []   \n",
      "...                                                  ...   \n",
      "10481                                       [주차, 시간, 무료]   \n",
      "10482                                            [케익, 티]   \n",
      "10483                                               [주차]   \n",
      "10484                                       [저녁, 회사, 사람]   \n",
      "10485                                        [삼성, 타워, ㅎ]   \n",
      "\n",
      "                                                   verbs adjectives  \\\n",
      "0      [놓치, 싫, 받, 이, 가, 갈, 이, 하, 달라, 하, 주, 없, 눈치보, 시키...     [싫, 없]   \n",
      "1                                                     []         []   \n",
      "2                                                   [맛있]       [맛있]   \n",
      "3                                                   [바쁘]       [바쁘]   \n",
      "4                                                [맛나, 치]       [맛나]   \n",
      "...                                                  ...        ...   \n",
      "10481                                                 []         []   \n",
      "10482                                            [맛있, 아]       [맛있]   \n",
      "10483                                                [되]         []   \n",
      "10484                                          [빠져나가, 좋]        [좋]   \n",
      "10485                                             [크, 좋]     [크, 좋]   \n",
      "\n",
      "                                            exclamations  \n",
      "0      [기, 어서, 을, 면, ㄴ, 세요, 었, 지만, ㅂ니다, ㄴ지, 시, 던데, 고,...  \n",
      "1                                                     []  \n",
      "2                                                   [어요]  \n",
      "3                                                   [아요]  \n",
      "4                                                [게, 어요]  \n",
      "...                                                  ...  \n",
      "10481                                                 []  \n",
      "10482                                             [는, 아]  \n",
      "10483                                               [어요]  \n",
      "10484                                      [고, 서, 고, 네요]  \n",
      "10485                                             [고, 음]  \n",
      "\n",
      "[10486 rows x 6 columns]\n"
     ]
    },
    {
     "name": "stderr",
     "output_type": "stream",
     "text": [
      "\n"
     ]
    }
   ],
   "source": [
    "# 형태소 분석 결과를 데이터프레임에 저장\n",
    "total_data['nouns'], total_data['verbs'], total_data['adjectives'], total_data['exclamations'] = zip(*[tokenize_text(text) for text in tqdm(total_data['Review'])])\n",
    "\n",
    "print(total_data)"
   ]
  },
  {
   "cell_type": "code",
   "execution_count": 22,
   "metadata": {},
   "outputs": [
    {
     "data": {
      "text/html": [
       "<div>\n",
       "<style scoped>\n",
       "    .dataframe tbody tr th:only-of-type {\n",
       "        vertical-align: middle;\n",
       "    }\n",
       "\n",
       "    .dataframe tbody tr th {\n",
       "        vertical-align: top;\n",
       "    }\n",
       "\n",
       "    .dataframe thead th {\n",
       "        text-align: right;\n",
       "    }\n",
       "</style>\n",
       "<table border=\"1\" class=\"dataframe\">\n",
       "  <thead>\n",
       "    <tr style=\"text-align: right;\">\n",
       "      <th></th>\n",
       "      <th>Rating</th>\n",
       "      <th>Review</th>\n",
       "      <th>nouns</th>\n",
       "      <th>verbs</th>\n",
       "      <th>adjectives</th>\n",
       "      <th>exclamations</th>\n",
       "    </tr>\n",
       "  </thead>\n",
       "  <tbody>\n",
       "    <tr>\n",
       "      <th>0</th>\n",
       "      <td>0</td>\n",
       "      <td>손님 놓치기 싫어서 지하층으로 손님을 받을거면 동일한 서비스를 제공하세요  그동안 ...</td>\n",
       "      <td>[손님, 지하층, 손님, 거, 동일, 서비스, 제공, 앞, 번, 사장님, 남자, 분...</td>\n",
       "      <td>[놓치, 싫, 받, 이, 가, 갈, 이, 하, 달라, 하, 주, 없, 눈치보, 시키...</td>\n",
       "      <td>[싫, 없]</td>\n",
       "      <td>[기, 어서, 을, 면, ㄴ, 세요, 었, 지만, ㅂ니다, ㄴ지, 시, 던데, 고,...</td>\n",
       "    </tr>\n",
       "    <tr>\n",
       "      <th>1</th>\n",
       "      <td>1</td>\n",
       "      <td>김치찌개랑 계란말이 쨩</td>\n",
       "      <td>[김치찌개, 계란, 말]</td>\n",
       "      <td>[]</td>\n",
       "      <td>[]</td>\n",
       "      <td>[]</td>\n",
       "    </tr>\n",
       "    <tr>\n",
       "      <th>2</th>\n",
       "      <td>1</td>\n",
       "      <td>맛있어요</td>\n",
       "      <td>[]</td>\n",
       "      <td>[맛있]</td>\n",
       "      <td>[맛있]</td>\n",
       "      <td>[어요]</td>\n",
       "    </tr>\n",
       "    <tr>\n",
       "      <th>3</th>\n",
       "      <td>1</td>\n",
       "      <td>바빠요</td>\n",
       "      <td>[]</td>\n",
       "      <td>[바쁘]</td>\n",
       "      <td>[바쁘]</td>\n",
       "      <td>[아요]</td>\n",
       "    </tr>\n",
       "    <tr>\n",
       "      <th>4</th>\n",
       "      <td>1</td>\n",
       "      <td>삼굡살이 너무맛나게먹엇쳐욤</td>\n",
       "      <td>[]</td>\n",
       "      <td>[맛나, 치]</td>\n",
       "      <td>[맛나]</td>\n",
       "      <td>[게, 어요]</td>\n",
       "    </tr>\n",
       "    <tr>\n",
       "      <th>...</th>\n",
       "      <td>...</td>\n",
       "      <td>...</td>\n",
       "      <td>...</td>\n",
       "      <td>...</td>\n",
       "      <td>...</td>\n",
       "      <td>...</td>\n",
       "    </tr>\n",
       "    <tr>\n",
       "      <th>10481</th>\n",
       "      <td>1</td>\n",
       "      <td>주차 시간 무료</td>\n",
       "      <td>[주차, 시간, 무료]</td>\n",
       "      <td>[]</td>\n",
       "      <td>[]</td>\n",
       "      <td>[]</td>\n",
       "    </tr>\n",
       "    <tr>\n",
       "      <th>10482</th>\n",
       "      <td>1</td>\n",
       "      <td>케익이 맛있는 아티제</td>\n",
       "      <td>[케익, 티]</td>\n",
       "      <td>[맛있, 아]</td>\n",
       "      <td>[맛있]</td>\n",
       "      <td>[는, 아]</td>\n",
       "    </tr>\n",
       "    <tr>\n",
       "      <th>10483</th>\n",
       "      <td>1</td>\n",
       "      <td>주차가돼요</td>\n",
       "      <td>[주차]</td>\n",
       "      <td>[되]</td>\n",
       "      <td>[]</td>\n",
       "      <td>[어요]</td>\n",
       "    </tr>\n",
       "    <tr>\n",
       "      <th>10484</th>\n",
       "      <td>1</td>\n",
       "      <td>깔끔하고 저녁엔 회사 사람들이 빠져나가서 조용하고 좋네요</td>\n",
       "      <td>[저녁, 회사, 사람]</td>\n",
       "      <td>[빠져나가, 좋]</td>\n",
       "      <td>[좋]</td>\n",
       "      <td>[고, 서, 고, 네요]</td>\n",
       "    </tr>\n",
       "    <tr>\n",
       "      <th>10485</th>\n",
       "      <td>1</td>\n",
       "      <td>삼성타워 크고 좋음 ㅎ</td>\n",
       "      <td>[삼성, 타워, ㅎ]</td>\n",
       "      <td>[크, 좋]</td>\n",
       "      <td>[크, 좋]</td>\n",
       "      <td>[고, 음]</td>\n",
       "    </tr>\n",
       "  </tbody>\n",
       "</table>\n",
       "<p>10486 rows × 6 columns</p>\n",
       "</div>"
      ],
      "text/plain": [
       "      Rating                                             Review  \\\n",
       "0          0  손님 놓치기 싫어서 지하층으로 손님을 받을거면 동일한 서비스를 제공하세요  그동안 ...   \n",
       "1          1                                       김치찌개랑 계란말이 쨩   \n",
       "2          1                                               맛있어요   \n",
       "3          1                                                바빠요   \n",
       "4          1                                     삼굡살이 너무맛나게먹엇쳐욤   \n",
       "...      ...                                                ...   \n",
       "10481      1                                           주차 시간 무료   \n",
       "10482      1                                        케익이 맛있는 아티제   \n",
       "10483      1                                              주차가돼요   \n",
       "10484      1                    깔끔하고 저녁엔 회사 사람들이 빠져나가서 조용하고 좋네요   \n",
       "10485      1                                       삼성타워 크고 좋음 ㅎ   \n",
       "\n",
       "                                                   nouns  \\\n",
       "0      [손님, 지하층, 손님, 거, 동일, 서비스, 제공, 앞, 번, 사장님, 남자, 분...   \n",
       "1                                          [김치찌개, 계란, 말]   \n",
       "2                                                     []   \n",
       "3                                                     []   \n",
       "4                                                     []   \n",
       "...                                                  ...   \n",
       "10481                                       [주차, 시간, 무료]   \n",
       "10482                                            [케익, 티]   \n",
       "10483                                               [주차]   \n",
       "10484                                       [저녁, 회사, 사람]   \n",
       "10485                                        [삼성, 타워, ㅎ]   \n",
       "\n",
       "                                                   verbs adjectives  \\\n",
       "0      [놓치, 싫, 받, 이, 가, 갈, 이, 하, 달라, 하, 주, 없, 눈치보, 시키...     [싫, 없]   \n",
       "1                                                     []         []   \n",
       "2                                                   [맛있]       [맛있]   \n",
       "3                                                   [바쁘]       [바쁘]   \n",
       "4                                                [맛나, 치]       [맛나]   \n",
       "...                                                  ...        ...   \n",
       "10481                                                 []         []   \n",
       "10482                                            [맛있, 아]       [맛있]   \n",
       "10483                                                [되]         []   \n",
       "10484                                          [빠져나가, 좋]        [좋]   \n",
       "10485                                             [크, 좋]     [크, 좋]   \n",
       "\n",
       "                                            exclamations  \n",
       "0      [기, 어서, 을, 면, ㄴ, 세요, 었, 지만, ㅂ니다, ㄴ지, 시, 던데, 고,...  \n",
       "1                                                     []  \n",
       "2                                                   [어요]  \n",
       "3                                                   [아요]  \n",
       "4                                                [게, 어요]  \n",
       "...                                                  ...  \n",
       "10481                                                 []  \n",
       "10482                                             [는, 아]  \n",
       "10483                                               [어요]  \n",
       "10484                                      [고, 서, 고, 네요]  \n",
       "10485                                             [고, 음]  \n",
       "\n",
       "[10486 rows x 6 columns]"
      ]
     },
     "execution_count": 22,
     "metadata": {},
     "output_type": "execute_result"
    }
   ],
   "source": [
    "total_data"
   ]
  },
  {
   "cell_type": "code",
   "execution_count": 23,
   "metadata": {},
   "outputs": [],
   "source": [
    "total_data.to_csv('./data/total_tokenized_V0.csv', index=False, encoding='utf-8-sig')"
   ]
  }
 ],
 "metadata": {
  "kernelspec": {
   "display_name": "Python 3",
   "language": "python",
   "name": "python3"
  },
  "language_info": {
   "codemirror_mode": {
    "name": "ipython",
    "version": 3
   },
   "file_extension": ".py",
   "mimetype": "text/x-python",
   "name": "python",
   "nbconvert_exporter": "python",
   "pygments_lexer": "ipython3",
   "version": "3.11.5"
  }
 },
 "nbformat": 4,
 "nbformat_minor": 2
}
