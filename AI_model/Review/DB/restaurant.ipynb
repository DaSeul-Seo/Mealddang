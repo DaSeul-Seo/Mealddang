{
 "cells": [
  {
   "cell_type": "code",
   "execution_count": 1,
   "metadata": {},
   "outputs": [],
   "source": [
    "import pandas as pd\n",
    "from sqlalchemy import create_engine\n",
    "\n",
    "# MySQL 서버 연결 정보 설정\n",
    "host = '15.164.171.183'\n",
    "user = 'mealddang'\n",
    "password = 'test1234'\n",
    "database = 'mealddang'\n",
    "\n",
    "# MySQL에 연결하는 Connection String 생성\n",
    "connection_string = f'mysql+pymysql://{user}:{password}@{host}/{database}'\n",
    "\n",
    "# 엔진 생성\n",
    "engine = create_engine(connection_string)"
   ]
  },
  {
   "cell_type": "code",
   "execution_count": 2,
   "metadata": {},
   "outputs": [],
   "source": [
    "query = \"SELECT * FROM restaurant_keyword;\"\n",
    "df = pd.read_sql(query, engine)"
   ]
  },
  {
   "cell_type": "code",
   "execution_count": 7,
   "metadata": {},
   "outputs": [
    {
     "name": "stdout",
     "output_type": "stream",
     "text": [
      "        keyword_id  restaurant_id         keyword\n",
      "0                0       10985460               코\n",
      "1                1       10985460              인걸\n",
      "2                2       10985460              대박\n",
      "3                3       10985460              국밥\n",
      "4                4       10985460              생각\n",
      "...            ...            ...             ...\n",
      "188182      188182       37236849            땡초라면\n",
      "188183      188183       37236849           폭탄계란찜\n",
      "188184      188184     1209151854  본앤본 프레스티지 스테이크\n",
      "188185      188185     1209151854    포터하우스(100g당)\n",
      "188186      188186     1209151854       블랙라벨 스테이크\n",
      "\n",
      "[188187 rows x 3 columns]\n"
     ]
    },
    {
     "data": {
      "text/plain": [
       "188187"
      ]
     },
     "execution_count": 7,
     "metadata": {},
     "output_type": "execute_result"
    }
   ],
   "source": [
    "df_unique = df.drop_duplicates(subset=['restaurant_id', 'keyword']).reset_index(drop=True)\n",
    "df_unique['keyword_id'] = df_unique.index  # 새로운 기본 키 컬럼 생성\n",
    "\n",
    "# 새로운 데이터프레임 확인\n",
    "\n",
    "new_order = ['keyword_id', 'restaurant_id','keyword']\n",
    "\n",
    "# 선택된 열로 새로운 데이터프레임 생성\n",
    "df_reordered = df_unique[new_order]\n",
    "print(df_reordered)\n",
    "\n",
    "# DataFrame을 MySQL 데이터베이스의 새로운 테이블에 저장\n",
    "df_reordered.to_sql('restaurant_keyword', con=engine, index=False, if_exists='replace')"
   ]
  },
  {
   "cell_type": "code",
   "execution_count": 2,
   "metadata": {},
   "outputs": [],
   "source": [
    "# 쿼리 실행 및 결과 DataFrame으로 로드 Naver\n",
    "query = \"SELECT * FROM restaurants_catchtable;\"\n",
    "cat_df = pd.read_sql(query, engine)"
   ]
  },
  {
   "cell_type": "code",
   "execution_count": 3,
   "metadata": {},
   "outputs": [],
   "source": [
    "# 쿼리 실행 및 결과 DataFrame으로 로드 Naver\n",
    "query = \"SELECT * FROM restaurants_naver;\"\n",
    "naver_df = pd.read_sql(query, engine)"
   ]
  },
  {
   "cell_type": "code",
   "execution_count": 4,
   "metadata": {},
   "outputs": [],
   "source": [
    "# 쿼리 실행 및 결과 DataFrame으로 로드 Naver\n",
    "query = \"SELECT * FROM restaurants_yogiyo;\"\n",
    "yogiyo_df = pd.read_sql(query, engine)"
   ]
  },
  {
   "cell_type": "code",
   "execution_count": 44,
   "metadata": {},
   "outputs": [],
   "source": [
    "# cat\n",
    "\n",
    "cat = cat_df[['shopref', 'shopname', 'foodKind', 'landName', 'serviceDesc', 'shopPhone', 'dispshopphone', 'shopaddress', 'shopAddress2' ,'lat' ,'lon', 'url', 'finalScore' , 'totalReviewCount']]"
   ]
  },
  {
   "cell_type": "markdown",
   "metadata": {},
   "source": [
    "1. shopref : 식당 id\n",
    "2. shopname : 식당 이름\n",
    "3. foodKind : 음식 카테고리\n",
    "4. landName : 랜드마크\n",
    "5. serviceDesc : 식당 설명\n",
    "6. shopPhone : 식당 전화번호 (안심)\n",
    "7. dispshopphone : 식당 전화번호\n",
    "8. shopaddress : 식당 주소\n",
    "9. shopAddress2 : 식당 도로명 주소?\n",
    "10. lat : 위도\n",
    "11. lon : 경도\n",
    "12. url : 식당 홈페이지\n",
    "13. finalScore : 식당 평점\n",
    "14. totalReviewCount : 리뷰 전체 수"
   ]
  },
  {
   "cell_type": "code",
   "execution_count": 43,
   "metadata": {},
   "outputs": [],
   "source": [
    "# yogiyo\n",
    "\n",
    "yogiyo = yogiyo_df[['restaurant_id', 'name', 'categories', 'review_avg' , 'review_count', 'lat', 'lng', 'begin', 'end', 'phone', 'address', 'thumbnail_url']]"
   ]
  },
  {
   "cell_type": "markdown",
   "metadata": {},
   "source": [
    "catch // yogiyo // naver\n",
    "\n",
    "\n",
    "1. 식당 id  : shopref // restaurant_id \n",
    "2. 식당 이름 : shopname  //  name \n",
    "3. 음식 카테고리 : foodKind  //  categories\n",
    "4. 랜드마크 : landName // null\n",
    "5. 식당 설명 : serviceDesc // null\n",
    "6. 식당 전화번호 (안심) : shopPhone  //  phone \n",
    "7. 식당 전화번호 : dispshopphone // null\n",
    "8. 식당 주소 : shopaddress  //  address\n",
    "9. 식당 도로명 주소? : shopAddress2 // null\n",
    "10. 위도 : lat  //  lat \n",
    "11. 경도 : lon  //   lng  \n",
    "12. 식당 홈페이지 : url  // null \n",
    "13. 식당 평점 : finalScore  //  review_avg \n",
    "14. 리뷰 전체 수 : totalReviewCount  //  review_count \n",
    "15. 오픈시간 : null  //  begin \n",
    "16. 마감시간 : null  //  end  \n",
    "17. 식당 대표 음식 사진 : null // thumbnail_url\n",
    "\n"
   ]
  },
  {
   "cell_type": "code",
   "execution_count": 47,
   "metadata": {},
   "outputs": [
    {
     "data": {
      "text/plain": [
       "Index(['restaurant_id', 'name', 'normalizedName', 'category', 'detailCid',\n",
       "       'categoryCodeList', 'dbType', 'distance', 'roadAddress', 'address',\n",
       "       'fullAddress', 'commonAddress', 'bookingUrl', 'phone', 'virtualPhone',\n",
       "       'businessHours', 'daysOff', 'imageUrl', 'imageCount', 'x', 'y',\n",
       "       'poiInfo', 'subwayId', 'isPublicGas', 'isDelivery', 'isTableOrder',\n",
       "       'isPreOrder', 'isTakeOut', 'isCvsDelivery', 'hasBooking',\n",
       "       'naverBookingCategory', 'bookingDisplayName', 'bookingBusinessId',\n",
       "       'bookingVisitId', 'bookingPickupId', 'baemin', 'yogiyo',\n",
       "       'isPollingStation', 'hasNPay', 'talktalkUrl', 'visitorReviewCount',\n",
       "       'visitorReviewScore', 'blogCafeReviewCount', 'bookingReviewCount',\n",
       "       'streetPanorama', 'naverBookingHubId', 'bookingHubUrl',\n",
       "       'bookingHubButtonName', 'newOpening', 'newBusinessHours', 'coupon',\n",
       "       'mid', '__typename', 'created_at'],\n",
       "      dtype='object')"
      ]
     },
     "execution_count": 47,
     "metadata": {},
     "output_type": "execute_result"
    }
   ],
   "source": [
    "naver_df.columns"
   ]
  },
  {
   "cell_type": "code",
   "execution_count": null,
   "metadata": {},
   "outputs": [],
   "source": [
    "naver = naver_df[['restaurant_id', 'name', 'normalizedName', 'category', 'roadAddress', 'address', 'fullAddress', 'commonAddress', 'bookingUrl', 'phone', 'virtualPhone', 'businessHours', 'imageUrl', 'y', 'x', 'hasBooking', 'visitorReviewScore', 'visitorReviewCount', 'newBusinessHours']].copy()"
   ]
  },
  {
   "cell_type": "code",
   "execution_count": null,
   "metadata": {},
   "outputs": [],
   "source": [
    "naver_df[''].isnull().sum()"
   ]
  },
  {
   "cell_type": "markdown",
   "metadata": {},
   "source": [
    "catch // yogiyo // naver\n",
    "\n",
    "\n",
    "1. 식당 id  : shopref // restaurant_id // restaurant_id \n",
    "2. 식당 이름 : shopname  //  name  // name\n",
    "3. 음식 카테고리 : foodKind  //  categories // category\n",
    "4. 랜드마크 : landName // null  // commonAddress\n",
    "5. 식당 설명 : serviceDesc // null // normalizedName??\n",
    "6. 식당 전화번호 (안심) : shopPhone  //  phone  // phone\n",
    "7. 식당 전화번호 : dispshopphone // null  //  virtualPhone\n",
    "8. 식당 주소 : shopaddress  //  address // address or fullAddress\n",
    "9. 식당 도로명 주소? : shopAddress2 // null // roadAddress\n",
    "10. 위도 : lat  //  lat  //  y\n",
    "11. 경도 : lon  //   lng  //  x\n",
    "12. 식당 홈페이지 : url  // null  // null\n",
    "13. 식당 평점 : finalScore  //  review_avg  // visitorReviewScore\n",
    "14. 리뷰 전체 수 : totalReviewCount  //  review_count // visitorReviewCount\n",
    "15. 오픈시간 : null  //  begin   // businessHours(추출 필요)\n",
    "16. 마감시간 : null  //  end   //  newBusinessHours(description) 에서 추출\n",
    "17. 식당 대표 음식 사진 : null // thumbnail_url  // imageUrl\n",
    "18. 예약 주소 : null // null // bookingUrl\n",
    "19. 예약 가능한가 : null // null // hasBooking\n",
    "\n"
   ]
  },
  {
   "cell_type": "code",
   "execution_count": null,
   "metadata": {},
   "outputs": [],
   "source": []
  }
 ],
 "metadata": {
  "kernelspec": {
   "display_name": "Python 3",
   "language": "python",
   "name": "python3"
  },
  "language_info": {
   "codemirror_mode": {
    "name": "ipython",
    "version": 3
   },
   "file_extension": ".py",
   "mimetype": "text/x-python",
   "name": "python",
   "nbconvert_exporter": "python",
   "pygments_lexer": "ipython3",
   "version": "3.11.5"
  }
 },
 "nbformat": 4,
 "nbformat_minor": 2
}
