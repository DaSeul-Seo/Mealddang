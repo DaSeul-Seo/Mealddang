{
 "cells": [
  {
   "cell_type": "code",
   "execution_count": 2,
   "metadata": {},
   "outputs": [],
   "source": [
    "import pandas as pd\n",
    "from sqlalchemy import create_engine\n",
    "import requests\n",
    "import pandas as pd\n",
    "import requests\n",
    "from tqdm import tqdm\n",
    "from bs4 import BeautifulSoup"
   ]
  },
  {
   "cell_type": "code",
   "execution_count": 3,
   "metadata": {},
   "outputs": [],
   "source": [
    "# MySQL 서버 연결 정보 설정\n",
    "host = '15.164.171.183'\n",
    "user = 'mealddang'\n",
    "password = 'test1234'\n",
    "database = 'mealddang'\n",
    "\n",
    "# MySQL에 연결하는 Connection String 생성\n",
    "connection_string = f'mysql+pymysql://{user}:{password}@{host}/{database}'\n",
    "\n",
    "# 엔진 생성\n",
    "engine = create_engine(connection_string)"
   ]
  },
  {
   "cell_type": "code",
   "execution_count": 4,
   "metadata": {},
   "outputs": [],
   "source": [
    "# 쿼리 실행 및 결과 DataFrame으로 로드 Naver\n",
    "query = \"SELECT * FROM md_store_master;\"\n",
    "df = pd.read_sql(query, engine)\n",
    "rest_list = df['store_id_n'].to_list()"
   ]
  },
  {
   "cell_type": "code",
   "execution_count": 5,
   "metadata": {},
   "outputs": [],
   "source": [
    "head = {\n",
    "    \"Accept\": \"text/html,application/xhtml+xml,application/xml;q=0.9,image/avif,image/webp,image/apng,*/*;q=0.8,application/signed-exchange;v=b3;q=0.7\",\n",
    "    \"Accept-Encoding\": \"gzip, deflate, br, zstd\",\n",
    "    \"Accept-Language\": \"ko-KR,ko;q=0.9,en-US;q=0.8,en;q=0.7\",\n",
    "    \"Cache-Control\": \"max-age=0\",\n",
    "    \"Cookie\": \"NNB=SUN7YEEJIPSWK; _fwb=152oJv7s0FXg11BB2jm0qlU.1710124682841; wcs_bt=sp_eddde133465c40:1710124757\",\n",
    "    \"Sec-Ch-Ua\": \"\\\"Chromium\\\";v=\\\"122\\\", \\\"Not(A:Brand\\\";v=\\\"24\\\", \\\"Google Chrome\\\";v=\\\"122\\\"\",\n",
    "    \"Sec-Ch-Ua-Mobile\": \"?0\",\n",
    "    \"Sec-Ch-Ua-Platform\": \"\\\"Windows\\\"\",\n",
    "    \"Sec-Fetch-Dest\": \"document\",\n",
    "    \"Sec-Fetch-Mode\": \"navigate\",\n",
    "    \"Sec-Fetch-Site\": \"none\",\n",
    "    \"Sec-Fetch-User\": \"?1\",\n",
    "    \"Upgrade-Insecure-Requests\": \"1\",\n",
    "    \"User-Agent\": \"Mozilla/5.0 (Windows NT 10.0; Win64; x64) AppleWebKit/537.36 (KHTML, like Gecko) Chrome/122.0.0.0 Safari/537.36\"\n",
    "}"
   ]
  },
  {
   "cell_type": "code",
   "execution_count": 32,
   "metadata": {},
   "outputs": [],
   "source": [
    "from sqlalchemy import create_engine, MetaData, Table, Column, Integer, String, inspect\n",
    "\n",
    "# MySQL 서버 연결 정보 설정\n",
    "host = '15.164.171.183'\n",
    "user = 'mealddang'\n",
    "password = 'test1234'\n",
    "database = 'mealddang'\n",
    "\n",
    "# MySQL에 연결하는 Connection String 생성\n",
    "connection_string = f'mysql+pymysql://{user}:{password}@{host}/{database}'\n",
    "\n",
    "# 엔진 생성\n",
    "engine = create_engine(connection_string)\n",
    "\n",
    "# metadata 생성\n",
    "metadata = MetaData()\n",
    "\n",
    "# 테이블 정의 (테이블의 이름, 컬럼 이름 및 데이터 타입 지정)\n",
    "table_name = 'restaurant_keyword'  # 테이블 이름을 지정해야 합니다.\n",
    "your_table = Table(\n",
    "    table_name, metadata,\n",
    "    Column('restaurant_id', Integer),\n",
    "    Column('keyword', String(255))  # VARCHAR의 길이를 지정합니다.\n",
    ")\n",
    "\n",
    "# Inspector 객체 생성\n",
    "inspector = inspect(engine)\n",
    "\n",
    "# 테이블이 이미 존재하는지 확인하고 없으면 생성\n",
    "if not inspector.has_table(table_name):\n",
    "    metadata.create_all(engine)"
   ]
  },
  {
   "cell_type": "code",
   "execution_count": 33,
   "metadata": {},
   "outputs": [
    {
     "name": "stderr",
     "output_type": "stream",
     "text": [
      "100%|██████████| 1994/1994 [45:06<00:00,  1.36s/it] \n"
     ]
    }
   ],
   "source": [
    "# 각각의 값들을 MySQL 데이터베이스에 삽입하는 쿼리 작성 및 실행\n",
    "for i in tqdm(range(len(rest_list))):\n",
    "    url = f\"https://m.place.naver.com/restaurant/{rest_list[i]}/menu/list\"\n",
    "    naver_r = requests.get(url, headers=head).content.decode('utf-8')\n",
    "    # BeautifulSoup을 사용하여 HTML 파싱\n",
    "    soup = BeautifulSoup(naver_r, 'html.parser')\n",
    "    # 클래스가 \"lPzHi\"인 모든 요소 가져오기\n",
    "    elements_with_class_lPzHi = soup.find_all(class_=\"lPzHi\")\n",
    "    # 각 요소의 텍스트 가져오기\n",
    "    contents = [element.text for element in elements_with_class_lPzHi]\n",
    "\n",
    "    for j in range(len(contents)):\n",
    "        # Connection 객체 생성\n",
    "        connection = engine.connect()\n",
    "        # 삽입 쿼리 작성\n",
    "        ins = your_table.insert().values(restaurant_id=rest_list[i], keyword=contents[j])\n",
    "        \n",
    "        \n",
    "        # 쿼리 실행 및 커밋\n",
    "        with connection.begin() as trans:\n",
    "            connection.execute(ins)\n",
    "            trans.commit()"
   ]
  }
 ],
 "metadata": {
  "kernelspec": {
   "display_name": "Python 3",
   "language": "python",
   "name": "python3"
  },
  "language_info": {
   "codemirror_mode": {
    "name": "ipython",
    "version": 3
   },
   "file_extension": ".py",
   "mimetype": "text/x-python",
   "name": "python",
   "nbconvert_exporter": "python",
   "pygments_lexer": "ipython3",
   "version": "3.11.5"
  }
 },
 "nbformat": 4,
 "nbformat_minor": 2
}
